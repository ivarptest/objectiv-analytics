{
 "cells": [
  {
   "cell_type": "markdown",
   "id": "25b2e58e",
   "metadata": {},
   "source": [
    "# Intro\n",
    "In this notebook, we briefly demonstrate how you can use pre-built models from the [open model hub](https://objectiv.io/docs/modeling/Objectiv/bach_open_taxonomy.ModelHub/#bach_open_taxonomy.ModelHub) in conjunction with our [modeling library](https://objectiv.io/docs/modeling/) to quickly build model stacks to answer common product analytics questions.\n",
    "\n",
    "This example uses real, unaltered data that was collected from objectiv.io with Objectiv’s Tracker. All models in the open model hub are compatible with datasets that have been validated against the [open analytics taxonomy](https://objectiv.io/docs/taxonomy/).\n",
    "\n",
    "For an overview of all available models, check out the [open model hub docs](https://objectiv.io/docs/modeling/Objectiv/bach_open_taxonomy.ModelHub/#bach_open_taxonomy.ModelHub)."
   ]
  },
  {
   "cell_type": "code",
   "execution_count": null,
   "id": "e97ff289",
   "metadata": {},
   "outputs": [],
   "source": [
    "from bach_open_taxonomy import ObjectivFrame"
   ]
  },
  {
   "cell_type": "markdown",
   "id": "e032c7c8",
   "metadata": {},
   "source": [
    "# Instantiate the data object\n",
    "As a first step, the Objectiv Frame object is instantiated. The Objectiv Frame is an extension to Bach DataFrame to use specifically for data that was collected with Objectiv’s Tracker. Bach is Objectiv’s data modeling library. With Bach, you can use familiar Pandas-like DataFrame operations in your notebook. It uses a SQL abstraction layer that enables models to run on the full dataset, and you can output models to SQL with a single command.\n",
    "\n",
    "The Objectiv Bach api is heavily inspired by the pandas api. We believe this provides a great, generic interface to handle large amounts of data in a python environment while supporting multiple data stores. For more details on Objectiv Bach, visit the docs.\n",
    "\n",
    "It loads the data as stored by the Objectiv Tracker, makes a few transformations, and sets the right data types.\n",
    "\n",
    "This object points to the data on which the models from the open model hub will be applied. The `time_aggregation` parameter determines the standard timeframe that is used with aggregation functions from the model hub. Ie. 'YYYY-MM-DD' means that days are used for the time aggregation. Only data starting at `start_date` is used for all following operations."
   ]
  },
  {
   "cell_type": "markdown",
   "id": "aeab3a00",
   "metadata": {},
   "source": [
    "**Note**  \n",
    "All operation and models in this notebook are run directly on entire data set in the SQL database using Bach. While the api resembles pandas, pandas is _not_ used for any the operations and calculations."
   ]
  },
  {
   "cell_type": "code",
   "execution_count": null,
   "id": "d582b77f",
   "metadata": {},
   "outputs": [],
   "source": [
    "of = ObjectivFrame.from_objectiv_data(time_aggregation='YYYY-MM-DD', start_date='2021-11-16')"
   ]
  },
  {
   "cell_type": "markdown",
   "id": "1077acee",
   "metadata": {},
   "source": [
    "# Using the open model hub\n",
    "The ModelHub contains a growing collection of open-source, free to use data models that you can take, chain and run to quickly build highly specific model stacks for product analysis and exploration. It includes models for a wide range of typical product analytics use cases. The source is available for all models and you're free to make any changes to them. \n",
    "\n",
    "All models are in the `.model_hub` namespace of the Objectiv Frame. You can also use `.mh` as a shorthand. \n",
    "\n",
    "The model hub has two main type of functions: `map` and `aggregate`. \n",
    "* `map` functions always return a series with the same shape and index as the Objectiv Frame they originate from. This ensures they can be added as a column to that Objectiv Frame.\n",
    "* `aggregate` fuctions return aggregated data in some form from the Objectiv Frame. Can also be accessed with `agg`.\n",
    "\n",
    "Additionally the Objectiv Frame can be filtered with the `filter` method. `map` functions that return SeriesBoolean can be used with the `filter` method.\n",
    "\n",
    "This notebook demonstrates how to use the model hub by showcasing a selection of the models from the model hub."
   ]
  },
  {
   "cell_type": "markdown",
   "id": "e9f3070b",
   "metadata": {},
   "source": [
    "## A simple aggregation model\n",
    "Calculating the unique users is one of the basic models in the model hub. As it is an aggregation model, it is called with `.model_hub.aggregate.unique_users()`. It uses the time_aggregation that is set when the Objectiv Frame was instantiated. With `.head()` we immediately query the data to show the results. `.to_pandas()` can be used to use all results as a pandas object in python. These (and following) results are sorted descending, so we show the latest data first."
   ]
  },
  {
   "cell_type": "code",
   "execution_count": null,
   "id": "65632d2b",
   "metadata": {},
   "outputs": [],
   "source": [
    "users = of.model_hub.aggregate.unique_users()\n",
    "users.sort_index(ascending=False).head(10)"
   ]
  },
  {
   "cell_type": "markdown",
   "id": "0c366433",
   "metadata": {},
   "source": [
    "## Using `map` with the model hub & combining models\n",
    "This example shows how you use map to label users as a new user. This uses *time_aggregation*. As *time_aggregation* was set to 'YYYY-MM-DD' it means all hits are labeled as new for the entire day in which the user had its first session."
   ]
  },
  {
   "cell_type": "code",
   "execution_count": null,
   "id": "10436e1e",
   "metadata": {},
   "outputs": [],
   "source": [
    "is_new_user = of.model_hub.map.is_new_user()\n",
    "is_new_user.head(10)"
   ]
  },
  {
   "cell_type": "markdown",
   "id": "d46cba1e",
   "metadata": {},
   "source": [
    "Or we can label conversion events. To do this we first have to define what a conversion is by setting the type of event and the location on the product at which this event was triggered with `add_conversion_event` (this is called the location stack, see [here](open-taxonomy-how-to.ipynb#global_contexts-&-location_stack) for info)."
   ]
  },
  {
   "cell_type": "code",
   "execution_count": null,
   "id": "61d9bfeb",
   "metadata": {},
   "outputs": [],
   "source": [
    "of.add_conversion_event(location_stack=of.location_stack.json[{'id': 'Quickstart Guide', '_type': 'LinkContext'}:],\n",
    "                        event_type='PressEvent',\n",
    "                        name='quickstart_presses')\n",
    "conversion_events = of.mh.map.is_conversion_event('quickstart_presses')\n",
    "conversion_events.head(10)"
   ]
  },
  {
   "cell_type": "markdown",
   "id": "80e05aa2",
   "metadata": {},
   "source": [
    "### Map, filter, aggregate\n",
    "As the map functions above retured a SeriesBoolean, they can be used in the model hub combined with filter and aggregation models. We use the same aggregation model we showed earlier (`unique_users`), but now with the filter `conversion_events` applied. This gives the unique converted users per day."
   ]
  },
  {
   "cell_type": "code",
   "execution_count": null,
   "id": "4493d730",
   "metadata": {},
   "outputs": [],
   "source": [
    "of.model_hub.filter(conversion_events).model_hub.aggregate.unique_users().head(10)"
   ]
  },
  {
   "cell_type": "markdown",
   "id": "48dfaca9",
   "metadata": {},
   "source": [
    "Similarly, we can use other aggregation models from the model hub. In the example below, the average session duration is calculated for new users."
   ]
  },
  {
   "cell_type": "code",
   "execution_count": null,
   "id": "65d52c00",
   "metadata": {},
   "outputs": [],
   "source": [
    "duration_new_users = of.model_hub.filter(is_new_user).model_hub.aggregate.session_duration()\n",
    "duration_new_users.sort_index(ascending=False).head(10)"
   ]
  },
  {
   "cell_type": "markdown",
   "id": "7be6e13c",
   "metadata": {},
   "source": [
    "### Combining model results\n",
    "Results from aggregation models can be used together if they share the same index type (similar to pandas). In this example the share of new users per day is calculated."
   ]
  },
  {
   "cell_type": "code",
   "execution_count": null,
   "id": "ad6396fe",
   "metadata": {},
   "outputs": [],
   "source": [
    "new_user_share = of.mh.filter(is_new_user).mh.agg.unique_users() / of.mh.agg.unique_users()\n",
    "new_user_share.sort_index(ascending=False).head(10)"
   ]
  },
  {
   "cell_type": "markdown",
   "id": "822b577b",
   "metadata": {},
   "source": [
    "### Chaining model filters"
   ]
  },
  {
   "cell_type": "markdown",
   "id": "57f59b2c",
   "metadata": {},
   "source": [
    "Filter model results can be chained, as the output is always an ObjectivFrame with the same columns but less or equal the number of rows as the initial ObjectivFrame. In this example we calculate the number of users that were new in a month and also that converted twice on a day."
   ]
  },
  {
   "cell_type": "code",
   "execution_count": null,
   "id": "5b7b1490",
   "metadata": {},
   "outputs": [],
   "source": [
    "of.mh.filter(of.mh.map.is_new_user(time_aggregation = 'YYYY-MM'))\\\n",
    "  .mh.filter(of.mh.map.conversion_count(name='quickstart_presses')==2)\\\n",
    "  .mh.agg.unique_users()\\\n",
    "  .head()"
   ]
  },
  {
   "cell_type": "markdown",
   "id": "65575126",
   "metadata": {},
   "source": [
    "## What's next?\n",
    "There are several options on how to continue working with the data or using the results otherwise, i.e. for visualization."
   ]
  },
  {
   "cell_type": "markdown",
   "id": "297ef877",
   "metadata": {},
   "source": [
    "### 1. Export models to sql\n",
    "As mentioned, all operations and models performed on the ObjectivFrame are run on the SQL data base. Therefore it is possible to view all objects as an SQL statement. For the `new_user_share` results that was created this looks as follows:"
   ]
  },
  {
   "cell_type": "code",
   "execution_count": null,
   "id": "5655bb43",
   "metadata": {},
   "outputs": [],
   "source": [
    "# complex sql statement alert!\n",
    "print(new_user_share.view_sql())"
   ]
  },
  {
   "cell_type": "markdown",
   "id": "c1102075",
   "metadata": {},
   "source": [
    "### 2. Export to metabase\n",
    "Aggregation models can be exported to Metabase, to visualize and share your results. This is done for the unique new users:"
   ]
  },
  {
   "cell_type": "code",
   "execution_count": null,
   "id": "f74099c0",
   "metadata": {},
   "outputs": [],
   "source": [
    "of.model_hub.to_metabase(of.mh.filter(is_new_user).mh.agg.unique_users(), config={'name': 'Unique New Users'})"
   ]
  },
  {
   "cell_type": "markdown",
   "id": "da779d24",
   "metadata": {},
   "source": [
    "The results can be viewed here: http://localhost:3000/dashboard/1-model-hub"
   ]
  },
  {
   "cell_type": "markdown",
   "id": "c7522e41",
   "metadata": {},
   "source": [
    "### 3. Further data crunching using the Bach Modeling Library\n",
    "Everything from the [Bach modeling library](https://objectiv.io/docs/modeling/) is available to ObjectivFrames. This makes the model hub and bach work seamlessly together."
   ]
  },
  {
   "cell_type": "code",
   "execution_count": null,
   "id": "ac530557",
   "metadata": {},
   "outputs": [],
   "source": [
    "# label conversions and the number of time a user is converted in a session at a moment using the model hub.\n",
    "of['is_conversion'] = of.model_hub.map.is_conversion_event(name='quickstart_presses')\n",
    "of['conversion_count'] = of.model_hub.map.conversion_count(name='quickstart_presses')\n",
    "\n",
    "# use Bach to do any supported operation using pandas syntax.\n",
    "# select users that converted\n",
    "converted_users = of[of.is_conversion].user_id.unique()\n",
    "# select PressEvents of users that converted\n",
    "of_selection = of[(of.event_type == 'PressEvent') &\n",
    "                  (of.user_id.isin(converted_users))]\n",
    "# calculate the number of PressEvents before conversion per session\n",
    "presses_per_session = of_selection[of_selection.conversion_count == 0].groupby('session_id').session_hit_number.count()"
   ]
  },
  {
   "cell_type": "markdown",
   "id": "15f2ab4d",
   "metadata": {},
   "source": [
    "Show the results, now the underlying query is executed."
   ]
  },
  {
   "cell_type": "code",
   "execution_count": null,
   "id": "53d38855",
   "metadata": {},
   "outputs": [],
   "source": [
    "presses_per_session.head()"
   ]
  },
  {
   "cell_type": "markdown",
   "id": "670dde5e",
   "metadata": {},
   "source": [
    "There is another notebook in the same folder that demonstrates what you can do with the Bach modeling library [open-taxonomy-how-to.ipynb](open-taxonomy-how-to.ipynb), or head over to the [api reference](https://objectiv.io/docs/modeling/reference) for a complete overview of the possibilities."
   ]
  },
  {
   "cell_type": "markdown",
   "id": "089230c9",
   "metadata": {},
   "source": [
    "### 4. Export ObjectivFrame and model hub results to pandas DataFrame\n",
    "ObjectivFrames and/or model hub results can always be exported to pandas. Since ObjectivFrame operation run on the full dataset in the SQL database, it is recommended to export to pandas if data small enough; ie by aggregation or selection.  \n",
    "By exporting the data to pandas you can use all the options from pandas as well as pandas compatible ML packages.\n",
    "\n",
    "We plot the previously calculated presses per session before conversion using pandas built-in plotting methods."
   ]
  },
  {
   "cell_type": "code",
   "execution_count": null,
   "id": "c7e07fe5",
   "metadata": {},
   "outputs": [],
   "source": [
    "# presses_per_session_pd is a pandas Series\n",
    "presses_per_session_pd = presses_per_session.to_pandas()\n",
    "presses_per_session_pd.hist()"
   ]
  },
  {
   "cell_type": "markdown",
   "id": "c964f0a9",
   "metadata": {},
   "source": [
    "This concludes the open model hub demo.\n",
    "\n",
    "We hope you’ve gotten a taste of the power and flexibility of the open model hub to quickly answer common product analytics questions. You can take it a lot further and build highly specific model stacks for in-depth analysis and exploration.\n",
    "\n",
    "For a complete overview of all available and upcoming models, check out the [model hub docs](https://objectiv.io/docs/modeling/Objectiv/bach_open_taxonomy.ModelHub)."
   ]
  }
 ],
 "metadata": {
  "kernelspec": {
   "display_name": "Python 3 (ipykernel)",
   "language": "python",
   "name": "python3"
  },
  "language_info": {
   "codemirror_mode": {
    "name": "ipython",
    "version": 3
   },
   "file_extension": ".py",
   "mimetype": "text/x-python",
   "name": "python",
   "nbconvert_exporter": "python",
   "pygments_lexer": "ipython3",
   "version": "3.9.4"
  }
 },
 "nbformat": 4,
 "nbformat_minor": 5
}
